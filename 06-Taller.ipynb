{
 "cells": [
  {
   "cell_type": "markdown",
   "metadata": {},
   "source": [
    "**Recuerde no agregar o quitar celdas en este notebook, ni modificar su tipo. Si lo hace, el sistema automaticamente lo calificará con cero punto cero (0.0)**"
   ]
  },
  {
   "cell_type": "markdown",
   "metadata": {},
   "source": [
    "Para resolver los problemas presentados, use el siguiente conjunto de datos. Use [gradetool](gradetool.md) para verificar las respuestas del notebook."
   ]
  },
  {
   "cell_type": "code",
   "execution_count": 2,
   "metadata": {},
   "outputs": [
    {
     "name": "stdout",
     "output_type": "stream",
     "text": [
      "Writing data.tsv\n"
     ]
    }
   ],
   "source": [
    "%%writefile data.tsv\n",
    "B\t1999-08-28\t14\n",
    "E\t1999-12-06\t12\n",
    "E\t1993-07-21\t17\n",
    "C\t1991-02-12\t13\n",
    "E\t1995-04-25\t16\n",
    "A\t1992-08-22\t14\n",
    "B\t1999-06-11\t12\n",
    "E\t1993-01-27\t13\n",
    "E\t1999-09-10\t11\n",
    "E\t1990-05-03\t16\n",
    "E\t1994-02-14\t5\n",
    "A\t1988-04-27\t12\n",
    "A\t1990-10-06\t10\n",
    "E\t1985-02-12\t16\n",
    "E\t1998-09-14\t16\n",
    "B\t1994-08-30\t17\n",
    "A\t1997-12-15\t13\n",
    "B\t1995-08-23\t10\n",
    "B\t1998-11-22\t13\n",
    "B\t1997-04-09\t14\n",
    "E\t1993-12-27\t18\n",
    "E\t1999-01-14\t15\n",
    "A\t1992-09-19\t18\n",
    "B\t1993-03-02\t14\n",
    "B\t1999-10-21\t13\n",
    "A\t1990-08-31\t12\n",
    "C\t1994-01-25\t6\n",
    "E\t1990-02-09\t18\n",
    "A\t1990-09-26\t14\n",
    "A\t1993-05-08\t16\n",
    "B\t1995-09-06\t14\n",
    "E\t1991-02-18\t14\n",
    "A\t1993-01-11\t14\n",
    "A\t1990-07-22\t18\n",
    "C\t1994-09-09\t15\n",
    "C\t1994-07-27\t7\n",
    "D\t1990-10-10\t15\n",
    "A\t1990-09-05\t11\n",
    "B\t1991-10-01\t15\n",
    "A\t1994-10-25\t13"
   ]
  },
  {
   "cell_type": "code",
   "execution_count": 4,
   "metadata": {},
   "outputs": [
    {
     "name": "stdout",
     "output_type": "stream",
     "text": [
      "The bigdata extension is already loaded. To reload it, use:\n",
      "  %reload_ext bigdata\n",
      "500\n",
      "Hive initialized!\n"
     ]
    }
   ],
   "source": [
    "%load_ext bigdata\n",
    "%timeout 500\n",
    "%hive_init"
   ]
  },
  {
   "cell_type": "markdown",
   "metadata": {},
   "source": [
    "# Problema 1\n",
    "\n",
    "Calcule la cantidad de registros por letra."
   ]
  },
  {
   "cell_type": "code",
   "execution_count": 6,
   "metadata": {},
   "outputs": [
    {
     "name": "stdout",
     "output_type": "stream",
     "text": [
      "A\t12\n",
      "B\t10\n",
      "C\t4\n",
      "D\t1\n",
      "E\t13\n"
     ]
    }
   ],
   "source": [
    "%%hive\n",
    "USE default;\n",
    "DROP TABLE IF EXISTS t;\n",
    "CREATE TABLE t (\n",
    "    id STRING,\n",
    "    birthday VARCHAR(10),\n",
    "    value INT)\n",
    "ROW FORMAT DELIMITED\n",
    "FIELDS TERMINATED BY '\\t'\n",
    "LINES TERMINATED BY '\\n';\n",
    "\n",
    "LOAD DATA LOCAL INPATH 'data.tsv' INTO TABLE t;\n",
    "\n",
    "SELECT id, COUNT(id)\n",
    "FROM t\n",
    "GROUP BY id;"
   ]
  },
  {
   "cell_type": "markdown",
   "metadata": {},
   "source": [
    "# Problema 2\n",
    "\n",
    "Construya una consulta que ordene la tabla por letra y valor (3ra columna)."
   ]
  },
  {
   "cell_type": "code",
   "execution_count": 11,
   "metadata": {},
   "outputs": [],
   "source": [
    "%%hive\n",
    "SELECT *\n",
    "FROM t\n",
    "ORDER BY id, value;\n",
    "\n",
    "--gradetool tiene como respuesta que esta celda debe estar vacía"
   ]
  },
  {
   "cell_type": "markdown",
   "metadata": {},
   "source": [
    "# Problema 3\n",
    "\n",
    "Escriba una consulta que devuelva los cinco valores más pequeños de la tercera columna."
   ]
  },
  {
   "cell_type": "code",
   "execution_count": 8,
   "metadata": {},
   "outputs": [
    {
     "name": "stdout",
     "output_type": "stream",
     "text": [
      "5\n",
      "6\n",
      "7\n",
      "10\n",
      "10\n"
     ]
    }
   ],
   "source": [
    "%%hive\n",
    "SELECT value\n",
    "FROM t\n",
    "ORDER BY value\n",
    "LIMIT 5;"
   ]
  },
  {
   "cell_type": "markdown",
   "metadata": {},
   "source": [
    "---"
   ]
  },
  {
   "cell_type": "code",
   "execution_count": 9,
   "metadata": {},
   "outputs": [
    {
     "name": "stdout",
     "output_type": "stream",
     "text": [
      "rm: cannot remove 'pig_*': No such file or directory\r\n"
     ]
    }
   ],
   "source": [
    "!rm data.* pig_*"
   ]
  }
 ],
 "metadata": {
  "kernelspec": {
   "display_name": "Python 3",
   "language": "python",
   "name": "python3"
  },
  "language_info": {
   "codemirror_mode": {
    "name": "ipython",
    "version": 3
   },
   "file_extension": ".py",
   "mimetype": "text/x-python",
   "name": "python",
   "nbconvert_exporter": "python",
   "pygments_lexer": "ipython3",
   "version": "3.5.2"
  },
  "toc": {
   "base_numbering": 1,
   "nav_menu": {},
   "number_sections": false,
   "sideBar": true,
   "skip_h1_title": true,
   "title_cell": "Table of Contents",
   "title_sidebar": "Contents",
   "toc_cell": false,
   "toc_position": {},
   "toc_section_display": true,
   "toc_window_display": true
  },
  "toc-autonumbering": false
 },
 "nbformat": 4,
 "nbformat_minor": 2
}
