{
 "cells": [
  {
   "cell_type": "markdown",
   "metadata": {},
   "source": [
    "**Recuerde no agregar o quitar celdas en este notebook, ni modificar su tipo. Si lo hace, el sistema automaticamente lo calificará con cero punto cero (0.0)**"
   ]
  },
  {
   "cell_type": "markdown",
   "metadata": {},
   "source": [
    "Para resolver los problemas presentados, use el siguiente conjunto de datos. Use [gradetool](gradetool.md) para verificar las respuestas del notebook."
   ]
  },
  {
   "cell_type": "code",
   "execution_count": 1,
   "metadata": {},
   "outputs": [
    {
     "name": "stdout",
     "output_type": "stream",
     "text": [
      "500\n",
      "Hive initialized!\n"
     ]
    }
   ],
   "source": [
    "%load_ext bigdata\n",
    "%timeout 500\n",
    "%hive_init"
   ]
  },
  {
   "cell_type": "code",
   "execution_count": 2,
   "metadata": {},
   "outputs": [
    {
     "name": "stdout",
     "output_type": "stream",
     "text": [
      "Writing tbl0.csv\n"
     ]
    }
   ],
   "source": [
    "%%writefile tbl0.csv\n",
    "1,D,4,2016-06-25,a:e:c:d,bb#10:dd#20:cc#40\n",
    "2,C,4,2015-05-14,a:c,dd#40:bb#20:cc#10\n",
    "3,D,6,2014-12-26,b:d,aa#10:bb#40\n",
    "4,D,5,2016-06-25,a:c:e:b:d,bb#40:dd#20:aa#10:cc#30\n",
    "5,C,7,2016-05-23,d:e:c,cc#10:aa#20\n",
    "6,A,2,2018-06-14,a:d,aa#20\n",
    "7,B,3,2014-12-22,a:e:d,cc#20\n",
    "8,C,6,2015-08-20,d:a:c:e,cc#10:aa#20\n",
    "9,B,3,2017-12-08,b:a:c:e,cc#40:dd#10:aa#30:bb#20\n",
    "10,B,7,2015-07-28,c:d:e:a:b,aa#10:dd#40:cc#30"
   ]
  },
  {
   "cell_type": "code",
   "execution_count": 3,
   "metadata": {},
   "outputs": [
    {
     "name": "stdout",
     "output_type": "stream",
     "text": [
      "1\tD\t4\t2016-06-25\t[\"a\",\"e\",\"c\",\"d\"]\t{\"bb\":10,\"dd\":20,\"cc\":40}\n",
      "2\tC\t4\t2015-05-14\t[\"a\",\"c\"]\t{\"dd\":40,\"bb\":20,\"cc\":10}\n",
      "3\tD\t6\t2014-12-26\t[\"b\",\"d\"]\t{\"aa\":10,\"bb\":40}\n",
      "4\tD\t5\t2016-06-25\t[\"a\",\"c\",\"e\",\"b\",\"d\"]\t{\"bb\":40,\"dd\":20,\"aa\":10,\"cc\":30}\n",
      "5\tC\t7\t2016-05-23\t[\"d\",\"e\",\"c\"]\t{\"cc\":10,\"aa\":20}\n",
      "6\tA\t2\t2018-06-14\t[\"a\",\"d\"]\t{\"aa\":20}\n",
      "7\tB\t3\t2014-12-22\t[\"a\",\"e\",\"d\"]\t{\"cc\":20}\n",
      "8\tC\t6\t2015-08-20\t[\"d\",\"a\",\"c\",\"e\"]\t{\"cc\":10,\"aa\":20}\n",
      "9\tB\t3\t2017-12-08\t[\"b\",\"a\",\"c\",\"e\"]\t{\"cc\":40,\"dd\":10,\"aa\":30,\"bb\":20}\n",
      "10\tB\t7\t2015-07-28\t[\"c\",\"d\",\"e\",\"a\",\"b\"]\t{\"aa\":10,\"dd\":40,\"cc\":30}\n"
     ]
    }
   ],
   "source": [
    "%%hive\n",
    "DROP TABLE IF EXISTS tbl0;\n",
    "CREATE TABLE tbl0 (\n",
    "    c1 INT,\n",
    "    c2 STRING,\n",
    "    c3 INT,\n",
    "    c4 DATE,\n",
    "    c5 ARRAY<CHAR(1)>, \n",
    "    c6 MAP<STRING, INT>\n",
    ")\n",
    "ROW FORMAT DELIMITED \n",
    "FIELDS TERMINATED BY ','\n",
    "COLLECTION ITEMS TERMINATED BY ':'\n",
    "MAP KEYS TERMINATED BY '#'\n",
    "LINES TERMINATED BY '\\n';\n",
    "\n",
    "LOAD DATA LOCAL INPATH 'tbl0.csv' INTO TABLE tbl0;\n",
    "\n",
    "SELECT * FROM tbl0;"
   ]
  },
  {
   "cell_type": "code",
   "execution_count": 4,
   "metadata": {},
   "outputs": [
    {
     "name": "stdout",
     "output_type": "stream",
     "text": [
      "Writing tbl1.csv\n"
     ]
    }
   ],
   "source": [
    "%%writefile tbl1.csv\n",
    "1,7,bb,A#0:B#4:C#1:D#3:E#5\n",
    "2,13,Cc,A#4:B#1:C#0:D#5:E#2\n",
    "3,11,dD,A#5:B#4:C#3:D#1:E#0\n",
    "4,3,BB,A#2:B#4:C#3:D#5:E#1\n",
    "5,14,cc,A#4:B#0:C#2:D#5:E#3\n",
    "6,8,cC,A#4:B#5:C#1:D#2:E#3\n",
    "7,2,DD,A#0:B#5:C#2:D#4:E#3\n",
    "8,6,dd,A#4:B#2:C#5:D#3:E#0\n",
    "9,9,aa,A#1:B#4:C#2:D#5:E#3\n",
    "10,4,Bb,A#2:B#3:C#4:D#1:E#0"
   ]
  },
  {
   "cell_type": "code",
   "execution_count": 5,
   "metadata": {},
   "outputs": [
    {
     "name": "stdout",
     "output_type": "stream",
     "text": [
      "1\t7\tbb\t{\"A\":0,\"B\":4,\"C\":1,\"D\":3,\"E\":5}\n",
      "2\t13\tCc\t{\"A\":4,\"B\":1,\"C\":0,\"D\":5,\"E\":2}\n",
      "3\t11\tdD\t{\"A\":5,\"B\":4,\"C\":3,\"D\":1,\"E\":0}\n",
      "4\t3\tBB\t{\"A\":2,\"B\":4,\"C\":3,\"D\":5,\"E\":1}\n",
      "5\t14\tcc\t{\"A\":4,\"B\":0,\"C\":2,\"D\":5,\"E\":3}\n",
      "6\t8\tcC\t{\"A\":4,\"B\":5,\"C\":1,\"D\":2,\"E\":3}\n",
      "7\t2\tDD\t{\"A\":0,\"B\":5,\"C\":2,\"D\":4,\"E\":3}\n",
      "8\t6\tdd\t{\"A\":4,\"B\":2,\"C\":5,\"D\":3,\"E\":0}\n",
      "9\t9\taa\t{\"A\":1,\"B\":4,\"C\":2,\"D\":5,\"E\":3}\n",
      "10\t4\tBb\t{\"A\":2,\"B\":3,\"C\":4,\"D\":1,\"E\":0}\n"
     ]
    }
   ],
   "source": [
    "%%hive\n",
    "DROP TABLE IF EXISTS tbl1;\n",
    "CREATE TABLE tbl1 (\n",
    "    c1 INT,\n",
    "    c2 INT,\n",
    "    c3 STRING,\n",
    "    c4 MAP<STRING, INT>\n",
    ")\n",
    "ROW FORMAT DELIMITED \n",
    "FIELDS TERMINATED BY ','\n",
    "COLLECTION ITEMS TERMINATED BY ':'\n",
    "MAP KEYS TERMINATED BY '#'\n",
    "LINES TERMINATED BY '\\n';\n",
    "\n",
    "LOAD DATA LOCAL INPATH 'tbl1.csv' INTO TABLE tbl1;\n",
    "\n",
    "SELECT * FROM tbl1;"
   ]
  },
  {
   "cell_type": "markdown",
   "metadata": {},
   "source": [
    "# Problema 1\n",
    "\n",
    "Escriba una consulta que retorne los valores únicos de la columna `t0.c5` (ordenados). "
   ]
  },
  {
   "cell_type": "code",
   "execution_count": 10,
   "metadata": {},
   "outputs": [
    {
     "name": "stdout",
     "output_type": "stream",
     "text": [
      "a\n",
      "b\n",
      "c\n",
      "d\n",
      "e\n"
     ]
    }
   ],
   "source": [
    "%%hive\n",
    "SELECT DISTINCT vals\n",
    "FROM\n",
    "(SELECT explode(c5) vals\n",
    "FROM tbl0\n",
    "ORDER BY vals) a;"
   ]
  },
  {
   "cell_type": "markdown",
   "metadata": {},
   "source": [
    "# Problema 2\n",
    "\n",
    "Realice una consulta que compute la cantidad de veces que aparece cada valor de la columna `t0.c5`  por año."
   ]
  },
  {
   "cell_type": "code",
   "execution_count": 16,
   "metadata": {},
   "outputs": [
    {
     "name": "stdout",
     "output_type": "stream",
     "text": [
      "2014\ta\t1\n",
      "2014\tb\t1\n",
      "2014\td\t2\n",
      "2014\te\t1\n",
      "2015\ta\t3\n",
      "2015\tb\t1\n",
      "2015\tc\t3\n",
      "2015\td\t2\n",
      "2015\te\t2\n",
      "2016\ta\t2\n",
      "2016\tb\t1\n",
      "2016\tc\t3\n",
      "2016\td\t3\n",
      "2016\te\t3\n",
      "2017\ta\t1\n",
      "2017\tb\t1\n",
      "2017\tc\t1\n",
      "2017\te\t1\n",
      "2018\ta\t1\n",
      "2018\td\t1\n"
     ]
    }
   ],
   "source": [
    "%%hive\n",
    "SELECT year, vals, COUNT(1)\n",
    "FROM\n",
    "(SELECT SUBSTRING(c4, 0, 4) AS year, vals\n",
    "FROM tbl0\n",
    "LATERAL VIEW explode(c5) t1 AS vals) a\n",
    "GROUP BY year, vals;"
   ]
  },
  {
   "cell_type": "markdown",
   "metadata": {},
   "source": [
    "# Problema 3\n",
    "\n",
    "Escriba una consulta que retorne los elementos de la columna t0.c5 en mayúsculas, tal como se muestra a continuación.\n",
    "\n",
    "Original:\n",
    "\n",
    "    [\"a\",\"e\",\"c\",\"d\"]\n",
    "    [\"a\",\"c\"]\n",
    "    [\"b\",\"d\"]\n",
    "    [\"a\",\"c\",\"e\",\"b\",\"d\"]\n",
    "    [\"d\",\"e\",\"c\"]\n",
    "    [\"a\",\"d\"]\n",
    "    [\"a\",\"e\",\"d\"]\n",
    "    [\"d\",\"a\",\"c\",\"e\"]\n",
    "    [\"b\",\"a\",\"c\",\"e\"]\n",
    "    [\"c\",\"d\",\"e\",\"a\",\"b\"]\n",
    "\n",
    "Transformada:\n",
    "\n",
    "    [\"A\",\"E\",\"C\",\"D\"]\n",
    "    [\"A\",\"C\"]\n",
    "    [\"B\",\"D\"]\n",
    "    [\"A\",\"C\",\"E\",\"B\",\"D\"]\n",
    "    [\"D\",\"E\",\"C\"]\n",
    "    [\"A\",\"D\"]\n",
    "    [\"A\",\"E\",\"D\"]\n",
    "    [\"D\",\"A\",\"C\",\"E\"]\n",
    "    [\"B\",\"A\",\"C\",\"E\"]\n",
    "    [\"C\",\"D\",\"E\",\"A\",\"B\"]"
   ]
  },
  {
   "cell_type": "code",
   "execution_count": 26,
   "metadata": {},
   "outputs": [
    {
     "name": "stdout",
     "output_type": "stream",
     "text": [
      "[\"A\",\"E\",\"C\",\"D\"]\n",
      "[\"A\",\"C\"]\n",
      "[\"B\",\"D\"]\n",
      "[\"A\",\"C\",\"E\",\"B\",\"D\"]\n",
      "[\"D\",\"E\",\"C\"]\n",
      "[\"A\",\"D\"]\n",
      "[\"A\",\"E\",\"D\"]\n",
      "[\"D\",\"A\",\"C\",\"E\"]\n",
      "[\"B\",\"A\",\"C\",\"E\"]\n",
      "[\"C\",\"D\",\"E\",\"A\",\"B\"]\n"
     ]
    }
   ],
   "source": [
    "%%hive\n",
    "SELECT collect_list(val)\n",
    "FROM\n",
    "(SELECT c1, UPPER(val) AS val\n",
    "FROM tbl0\n",
    "LATERAL VIEW explode(c5) t1 AS val) a\n",
    "GROUP BY c1;"
   ]
  },
  {
   "cell_type": "markdown",
   "metadata": {},
   "source": [
    "# Problema 4\n",
    "\n",
    "Escriba una consulta que retorne para cada valor único de la columna `t0.c2`, los valores correspondientes de la columna `\n",
    "t0.c1`. "
   ]
  },
  {
   "cell_type": "code",
   "execution_count": 29,
   "metadata": {},
   "outputs": [
    {
     "name": "stdout",
     "output_type": "stream",
     "text": [
      "A\t[6]\n",
      "B\t[7,9,10]\n",
      "C\t[2,5,8]\n",
      "D\t[1,3,4]\n"
     ]
    }
   ],
   "source": [
    "%%hive\n",
    "SELECT c2, collect_list(c1)\n",
    "FROM\n",
    "(SELECT c2, c1\n",
    "FROM tbl0) a\n",
    "GROUP BY c2;"
   ]
  },
  {
   "cell_type": "markdown",
   "metadata": {},
   "source": [
    "# Problema 5\n",
    "\n",
    "Escriba una consulta que para cada valor único de la columna `t0.c2,` calcule la suma de todos los valores asociados a las claves en la columna `t0.c6`."
   ]
  },
  {
   "cell_type": "code",
   "execution_count": 34,
   "metadata": {},
   "outputs": [
    {
     "name": "stdout",
     "output_type": "stream",
     "text": [
      "A\t20\n",
      "B\t200\n",
      "C\t130\n",
      "D\t220\n"
     ]
    }
   ],
   "source": [
    "%%hive\n",
    "SELECT c2, SUM(value)\n",
    "FROM tbl0\n",
    "LATERAL VIEW explode(c6) tbl0\n",
    "GROUP BY c2;"
   ]
  },
  {
   "cell_type": "markdown",
   "metadata": {},
   "source": [
    "# Problema 6\n",
    "\n",
    "Escriba una consulta que retorne la columna `tbl0.c1` y el valor correspondiente de la columna `tbl1.c4` para la columna `tbl0.c2`."
   ]
  },
  {
   "cell_type": "code",
   "execution_count": 41,
   "metadata": {},
   "outputs": [
    {
     "name": "stdout",
     "output_type": "stream",
     "text": [
      "1\tD\t3\n",
      "2\tC\t0\n",
      "3\tD\t1\n",
      "4\tD\t5\n",
      "5\tC\t2\n",
      "6\tA\t4\n",
      "7\tB\t5\n",
      "8\tC\t5\n",
      "9\tB\t4\n",
      "10\tB\t3\n"
     ]
    }
   ],
   "source": [
    "%%hive\n",
    "WITH \n",
    "a AS\n",
    "(SELECT c1, c2\n",
    "FROM tbl0),\n",
    "b AS\n",
    "(SELECT c1, key, val\n",
    "FROM tbl1\n",
    "LATERAL VIEW explode(c4) t1 AS key,val)\n",
    "SELECT a.c1, a.c2, b.val\n",
    "FROM a\n",
    "LEFT JOIN b\n",
    "ON a.c1 = b.c1 AND a.c2 = b.key;"
   ]
  },
  {
   "cell_type": "markdown",
   "metadata": {},
   "source": [
    "---"
   ]
  },
  {
   "cell_type": "code",
   "execution_count": null,
   "metadata": {},
   "outputs": [],
   "source": [
    "!rm tbl* "
   ]
  }
 ],
 "metadata": {
  "kernelspec": {
   "display_name": "Python 3",
   "language": "python",
   "name": "python3"
  },
  "language_info": {
   "codemirror_mode": {
    "name": "ipython",
    "version": 3
   },
   "file_extension": ".py",
   "mimetype": "text/x-python",
   "name": "python",
   "nbconvert_exporter": "python",
   "pygments_lexer": "ipython3",
   "version": "3.5.2"
  },
  "toc": {
   "base_numbering": 1,
   "nav_menu": {},
   "number_sections": false,
   "sideBar": true,
   "skip_h1_title": true,
   "title_cell": "Table of Contents",
   "title_sidebar": "Contents",
   "toc_cell": false,
   "toc_position": {},
   "toc_section_display": true,
   "toc_window_display": true
  },
  "toc-autonumbering": false
 },
 "nbformat": 4,
 "nbformat_minor": 2
}
