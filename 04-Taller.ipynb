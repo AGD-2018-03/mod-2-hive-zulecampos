{
 "cells": [
  {
   "cell_type": "markdown",
   "metadata": {},
   "source": [
    "**Recuerde no agregar o quitar celdas en este notebook, ni modificar su tipo. Si lo hace, el sistema automaticamente lo calificará con cero punto cero (0.0)**"
   ]
  },
  {
   "cell_type": "markdown",
   "metadata": {},
   "source": [
    "Para resolver los problemas presentados, use el siguiente conjunto de datos. Use [gradetool](gradetool.md) para verificar las respuestas del notebook."
   ]
  },
  {
   "cell_type": "code",
   "execution_count": 4,
   "metadata": {},
   "outputs": [
    {
     "name": "stdout",
     "output_type": "stream",
     "text": [
      "Overwriting data.tsv\n"
     ]
    }
   ],
   "source": [
    "%%writefile data.tsv\n",
    "E\t{b,g,f}\t[jjj#3,bbb#0,ddd#9,ggg#8,hhh#2]\n",
    "A\t{a,f,c}\t[ccc#2,ddd#0,aaa#3,hhh#9]\n",
    "B\t{f,e,a,c}\t[ddd#2,ggg#5,ccc#6,jjj#1]\n",
    "A\t{a,b}\t[hhh#9,iii#5,eee#7,bbb#1]\n",
    "C\t{f,g,d,a}\t[iii#6,ddd#5,eee#4,jjj#3]\n",
    "A\t{c,d}\t[bbb#2,hhh#0,ccc#4,fff#1,aaa#7]\n",
    "A\t{g,d,a}\t[aaa#5,fff#8,ddd#2,iii#0,jjj#7,ccc#1]\n",
    "B\t{b,a}\t[fff#3,hhh#1,ddd#2]\n",
    "E\t{d,e,a,f}\t[eee#4,ccc#5,iii#9,fff#7,ggg#6,bbb#0]\n",
    "B\t{d,b,g,f}\t[bbb#7,jjj#9,fff#5,iii#4,ggg#2,eee#3]\n",
    "C\t{d,c,f,b}\t[hhh#6,eee#4,iii#0,fff#2,jjj#1]\n",
    "C\t{d,e,a,c}\t[bbb#7,iii#6,ggg#9]\n",
    "D\t{g,e,f,b}\t[bbb#9,aaa#3,ccc#6,fff#4,eee#2]\n",
    "E\t{c,f}\t[aaa#8,ddd#5,jjj#1]\n",
    "B\t{d,b}\t[ccc#0,jjj#6,fff#7,ddd#3,aaa#2]\n",
    "D\t{f,e}\t[ccc#0,eee#6,bbb#9,ddd#3]\n",
    "E\t{e,b,f}\t[bbb#6,iii#3,hhh#5,fff#4,ggg#9,ddd#2]\n",
    "D\t{g,a}\t[hhh#4,jjj#5,ccc#9]\n",
    "E\t{e,c,f,a}\t[ccc#1,iii#6,fff#9]\n",
    "E\t{e,a}\t[bbb#9,aaa#3,fff#1]\n",
    "E\t{e,f}\t[ddd#9,iii#2,aaa#4]\n",
    "E\t{c,b,g}\t[ccc#5,fff#8,iii#7]\n",
    "D\t{c,f,a}\t[eee#3,jjj#2,ddd#7]\n",
    "A\t{f,a,d}\t[jjj#1,ggg#0,ccc#7,ddd#9,bbb#3]\n",
    "E\t{c,d}\t[jjj#6,ccc#0,aaa#1,hhh#9,iii#7,ggg#8]\n",
    "E\t{e,d,c}\t[fff#3,eee#6,iii#4,bbb#7,ddd#0,ccc#1]\n",
    "A\t{a,e,f}\t[fff#0,ddd#5,ccc#4]\n",
    "E\t{c,a,g}\t[ggg#6,hhh#3,ddd#9,ccc#0,jjj#7]\n",
    "A\t{f,e}\t[hhh#6,jjj#0,eee#5,iii#7,ccc#3]\n",
    "C\t{f,c,a,g}\t[eee#1,fff#4,aaa#2,ccc#7,ggg#0,ddd#6]\n",
    "A\t{b,f}\t[ccc#6,aaa#9,eee#5,ddd#0,bbb#3]\n",
    "D\t{b,f}\t[bbb#7,hhh#1,aaa#6,iii#4,fff#9,ddd#5]\n",
    "E\t{a,c}\t[fff#3,ccc#1,ggg#2,eee#5]\n",
    "B\t{b,f,c}\t[iii#7,ggg#3,ddd#0,jjj#8,hhh#5,ccc#1]\n",
    "B\t{f,a,e}\t[hhh#6,ccc#3,jjj#0,bbb#8,ddd#7]\n",
    "D\t{a,f}\t[aaa#0,fff#5,ddd#3]\n",
    "B\t{c,a}\t[ddd#5,jjj#2,iii#7,ccc#0,bbb#4]\n",
    "C\t{c,a,e,f}\t[eee#0,fff#2,hhh#6]\n",
    "E\t{e,d}\t[fff#9,iii#2,eee#0]\n",
    "E\t{f,a,d}\t[hhh#8,ggg#3,jjj#5]"
   ]
  },
  {
   "cell_type": "markdown",
   "metadata": {},
   "source": [
    "# Problema 1\n",
    "\n",
    "Escriba un programa en Python que transforme el archivo `data.tsv` al formato nativo de Apache Hive; esto es, usando los caracteres que usa Apache Hive internamente para separar los distintos elementos de un registro. \n",
    "\n",
    "* Llame las columnas `c1`, `c2` y así sucesivamente. \n",
    "\n",
    "* Los campos internos de las columnas se llaman c11 y así sucesivamente.\n",
    "\n",
    "* La columna 2 es un ARRAY y la columna 3 es un MAP."
   ]
  },
  {
   "cell_type": "code",
   "execution_count": 50,
   "metadata": {},
   "outputs": [
    {
     "name": "stdout",
     "output_type": "stream",
     "text": [
      "E\u0001b\u0002g\u0002f\u0001jjj\u00033\u0002bbb\u00030\u0002ddd\u00039\u0002ggg\u00038\u0002hhh\u00032\n",
      "A\u0001a\u0002f\u0002c\u0001ccc\u00032\u0002ddd\u00030\u0002aaa\u00033\u0002hhh\u00039\n",
      "B\u0001f\u0002e\u0002a\u0002c\u0001ddd\u00032\u0002ggg\u00035\u0002ccc\u00036\u0002jjj\u00031\n",
      "A\u0001a\u0002b\u0001hhh\u00039\u0002iii\u00035\u0002eee\u00037\u0002bbb\u00031\n",
      "C\u0001f\u0002g\u0002d\u0002a\u0001iii\u00036\u0002ddd\u00035\u0002eee\u00034\u0002jjj\u00033\n",
      "A\u0001c\u0002d\u0001bbb\u00032\u0002hhh\u00030\u0002ccc\u00034\u0002fff\u00031\u0002aaa\u00037\n",
      "A\u0001g\u0002d\u0002a\u0001aaa\u00035\u0002fff\u00038\u0002ddd\u00032\u0002iii\u00030\u0002jjj\u00037\u0002ccc\u00031\n",
      "B\u0001b\u0002a\u0001fff\u00033\u0002hhh\u00031\u0002ddd\u00032\n",
      "E\u0001d\u0002e\u0002a\u0002f\u0001eee\u00034\u0002ccc\u00035\u0002iii\u00039\u0002fff\u00037\u0002ggg\u00036\u0002bbb\u00030\n",
      "B\u0001d\u0002b\u0002g\u0002f\u0001bbb\u00037\u0002jjj\u00039\u0002fff\u00035\u0002iii\u00034\u0002ggg\u00032\u0002eee\u00033\n",
      "C\u0001d\u0002c\u0002f\u0002b\u0001hhh\u00036\u0002eee\u00034\u0002iii\u00030\u0002fff\u00032\u0002jjj\u00031\n",
      "C\u0001d\u0002e\u0002a\u0002c\u0001bbb\u00037\u0002iii\u00036\u0002ggg\u00039\n",
      "D\u0001g\u0002e\u0002f\u0002b\u0001bbb\u00039\u0002aaa\u00033\u0002ccc\u00036\u0002fff\u00034\u0002eee\u00032\n",
      "E\u0001c\u0002f\u0001aaa\u00038\u0002ddd\u00035\u0002jjj\u00031\n",
      "B\u0001d\u0002b\u0001ccc\u00030\u0002jjj\u00036\u0002fff\u00037\u0002ddd\u00033\u0002aaa\u00032\n",
      "D\u0001f\u0002e\u0001ccc\u00030\u0002eee\u00036\u0002bbb\u00039\u0002ddd\u00033\n",
      "E\u0001e\u0002b\u0002f\u0001bbb\u00036\u0002iii\u00033\u0002hhh\u00035\u0002fff\u00034\u0002ggg\u00039\u0002ddd\u00032\n",
      "D\u0001g\u0002a\u0001hhh\u00034\u0002jjj\u00035\u0002ccc\u00039\n",
      "E\u0001e\u0002c\u0002f\u0002a\u0001ccc\u00031\u0002iii\u00036\u0002fff\u00039\n",
      "E\u0001e\u0002a\u0001bbb\u00039\u0002aaa\u00033\u0002fff\u00031\n",
      "E\u0001e\u0002f\u0001ddd\u00039\u0002iii\u00032\u0002aaa\u00034\n",
      "E\u0001c\u0002b\u0002g\u0001ccc\u00035\u0002fff\u00038\u0002iii\u00037\n",
      "D\u0001c\u0002f\u0002a\u0001eee\u00033\u0002jjj\u00032\u0002ddd\u00037\n",
      "A\u0001f\u0002a\u0002d\u0001jjj\u00031\u0002ggg\u00030\u0002ccc\u00037\u0002ddd\u00039\u0002bbb\u00033\n",
      "E\u0001c\u0002d\u0001jjj\u00036\u0002ccc\u00030\u0002aaa\u00031\u0002hhh\u00039\u0002iii\u00037\u0002ggg\u00038\n",
      "E\u0001e\u0002d\u0002c\u0001fff\u00033\u0002eee\u00036\u0002iii\u00034\u0002bbb\u00037\u0002ddd\u00030\u0002ccc\u00031\n",
      "A\u0001a\u0002e\u0002f\u0001fff\u00030\u0002ddd\u00035\u0002ccc\u00034\n",
      "E\u0001c\u0002a\u0002g\u0001ggg\u00036\u0002hhh\u00033\u0002ddd\u00039\u0002ccc\u00030\u0002jjj\u00037\n",
      "A\u0001f\u0002e\u0001hhh\u00036\u0002jjj\u00030\u0002eee\u00035\u0002iii\u00037\u0002ccc\u00033\n",
      "C\u0001f\u0002c\u0002a\u0002g\u0001eee\u00031\u0002fff\u00034\u0002aaa\u00032\u0002ccc\u00037\u0002ggg\u00030\u0002ddd\u00036\n",
      "A\u0001b\u0002f\u0001ccc\u00036\u0002aaa\u00039\u0002eee\u00035\u0002ddd\u00030\u0002bbb\u00033\n",
      "D\u0001b\u0002f\u0001bbb\u00037\u0002hhh\u00031\u0002aaa\u00036\u0002iii\u00034\u0002fff\u00039\u0002ddd\u00035\n",
      "E\u0001a\u0002c\u0001fff\u00033\u0002ccc\u00031\u0002ggg\u00032\u0002eee\u00035\n",
      "B\u0001b\u0002f\u0002c\u0001iii\u00037\u0002ggg\u00033\u0002ddd\u00030\u0002jjj\u00038\u0002hhh\u00035\u0002ccc\u00031\n",
      "B\u0001f\u0002a\u0002e\u0001hhh\u00036\u0002ccc\u00033\u0002jjj\u00030\u0002bbb\u00038\u0002ddd\u00037\n",
      "D\u0001a\u0002f\u0001aaa\u00030\u0002fff\u00035\u0002ddd\u00033\n",
      "B\u0001c\u0002a\u0001ddd\u00035\u0002jjj\u00032\u0002iii\u00037\u0002ccc\u00030\u0002bbb\u00034\n",
      "C\u0001c\u0002a\u0002e\u0002f\u0001eee\u00030\u0002fff\u00032\u0002hhh\u00036\n",
      "E\u0001e\u0002d\u0001fff\u00039\u0002iii\u00032\u0002eee\u00030\n",
      "E\u0001f\u0002a\u0002d\u0001hhh\u00038\u0002ggg\u00033\u0002jjj\u00035\n"
     ]
    }
   ],
   "source": [
    "fixed_data = []\n",
    "with open('data.tsv', 'r') as file:\n",
    "    for line in file:\n",
    "        fixed_line = ''\n",
    "        c = 1\n",
    "        for col in line.split():\n",
    "            if c == 1:\n",
    "                fixed_line += col + chr(1)\n",
    "            elif c == 2:\n",
    "                fixed_line += col.replace(',',chr(2))[1:-1] + chr(1)\n",
    "            else:\n",
    "                fixed_line += col.replace(',',chr(2)).replace('#',chr(3))[1:-1]\n",
    "            c += 1\n",
    "        fixed_data.append(fixed_line)\n",
    "    fixed_data = '\\n'.join(fixed_data)\n",
    "    \n",
    "with open('fixed_data.tsv', 'w') as file:\n",
    "    file.write(fixed_data)\n",
    "    \n",
    "print(fixed_data)"
   ]
  },
  {
   "cell_type": "markdown",
   "metadata": {},
   "source": [
    "# Problema 2\n",
    "\n",
    "Cree la estructura para la tabla anterior en Apache Hive y luego inserterla directamente sin usar los comandos para indicar delimitadores. Use un SELECT para imprimir el contenido de la tabla. La tabla debe llamarse `taller04` y debe ubicarse en la base de datos `default`."
   ]
  },
  {
   "cell_type": "code",
   "execution_count": 8,
   "metadata": {},
   "outputs": [
    {
     "name": "stdout",
     "output_type": "stream",
     "text": [
      "The bigdata extension is already loaded. To reload it, use:\n",
      "  %reload_ext bigdata\n",
      "500\n",
      "Hive initialized!\n"
     ]
    }
   ],
   "source": [
    "%load_ext bigdata\n",
    "%timeout 500\n",
    "%hive_init"
   ]
  },
  {
   "cell_type": "code",
   "execution_count": 51,
   "metadata": {},
   "outputs": [
    {
     "name": "stdout",
     "output_type": "stream",
     "text": [
      "E\t[\"b\",\"g\",\"f\"]\t{\"jjj\":3,\"bbb\":0,\"ddd\":9,\"ggg\":8,\"hhh\":2}\n",
      "A\t[\"a\",\"f\",\"c\"]\t{\"ccc\":2,\"ddd\":0,\"aaa\":3,\"hhh\":9}\n",
      "B\t[\"f\",\"e\",\"a\",\"c\"]\t{\"ddd\":2,\"ggg\":5,\"ccc\":6,\"jjj\":1}\n",
      "A\t[\"a\",\"b\"]\t{\"hhh\":9,\"iii\":5,\"eee\":7,\"bbb\":1}\n",
      "C\t[\"f\",\"g\",\"d\",\"a\"]\t{\"iii\":6,\"ddd\":5,\"eee\":4,\"jjj\":3}\n",
      "A\t[\"c\",\"d\"]\t{\"bbb\":2,\"hhh\":0,\"ccc\":4,\"fff\":1,\"aaa\":7}\n",
      "A\t[\"g\",\"d\",\"a\"]\t{\"aaa\":5,\"fff\":8,\"ddd\":2,\"iii\":0,\"jjj\":7,\"ccc\":1}\n",
      "B\t[\"b\",\"a\"]\t{\"fff\":3,\"hhh\":1,\"ddd\":2}\n",
      "E\t[\"d\",\"e\",\"a\",\"f\"]\t{\"eee\":4,\"ccc\":5,\"iii\":9,\"fff\":7,\"ggg\":6,\"bbb\":0}\n",
      "B\t[\"d\",\"b\",\"g\",\"f\"]\t{\"bbb\":7,\"jjj\":9,\"fff\":5,\"iii\":4,\"ggg\":2,\"eee\":3}\n",
      "C\t[\"d\",\"c\",\"f\",\"b\"]\t{\"hhh\":6,\"eee\":4,\"iii\":0,\"fff\":2,\"jjj\":1}\n",
      "C\t[\"d\",\"e\",\"a\",\"c\"]\t{\"bbb\":7,\"iii\":6,\"ggg\":9}\n",
      "D\t[\"g\",\"e\",\"f\",\"b\"]\t{\"bbb\":9,\"aaa\":3,\"ccc\":6,\"fff\":4,\"eee\":2}\n",
      "E\t[\"c\",\"f\"]\t{\"aaa\":8,\"ddd\":5,\"jjj\":1}\n",
      "B\t[\"d\",\"b\"]\t{\"ccc\":0,\"jjj\":6,\"fff\":7,\"ddd\":3,\"aaa\":2}\n",
      "D\t[\"f\",\"e\"]\t{\"ccc\":0,\"eee\":6,\"bbb\":9,\"ddd\":3}\n",
      "E\t[\"e\",\"b\",\"f\"]\t{\"bbb\":6,\"iii\":3,\"hhh\":5,\"fff\":4,\"ggg\":9,\"ddd\":2}\n",
      "D\t[\"g\",\"a\"]\t{\"hhh\":4,\"jjj\":5,\"ccc\":9}\n",
      "E\t[\"e\",\"c\",\"f\",\"a\"]\t{\"ccc\":1,\"iii\":6,\"fff\":9}\n",
      "E\t[\"e\",\"a\"]\t{\"bbb\":9,\"aaa\":3,\"fff\":1}\n",
      "E\t[\"e\",\"f\"]\t{\"ddd\":9,\"iii\":2,\"aaa\":4}\n",
      "E\t[\"c\",\"b\",\"g\"]\t{\"ccc\":5,\"fff\":8,\"iii\":7}\n",
      "D\t[\"c\",\"f\",\"a\"]\t{\"eee\":3,\"jjj\":2,\"ddd\":7}\n",
      "A\t[\"f\",\"a\",\"d\"]\t{\"jjj\":1,\"ggg\":0,\"ccc\":7,\"ddd\":9,\"bbb\":3}\n",
      "E\t[\"c\",\"d\"]\t{\"jjj\":6,\"ccc\":0,\"aaa\":1,\"hhh\":9,\"iii\":7,\"ggg\":8}\n",
      "E\t[\"e\",\"d\",\"c\"]\t{\"fff\":3,\"eee\":6,\"iii\":4,\"bbb\":7,\"ddd\":0,\"ccc\":1}\n",
      "A\t[\"a\",\"e\",\"f\"]\t{\"fff\":0,\"ddd\":5,\"ccc\":4}\n",
      "E\t[\"c\",\"a\",\"g\"]\t{\"ggg\":6,\"hhh\":3,\"ddd\":9,\"ccc\":0,\"jjj\":7}\n",
      "A\t[\"f\",\"e\"]\t{\"hhh\":6,\"jjj\":0,\"eee\":5,\"iii\":7,\"ccc\":3}\n",
      "C\t[\"f\",\"c\",\"a\",\"g\"]\t{\"eee\":1,\"fff\":4,\"aaa\":2,\"ccc\":7,\"ggg\":0,\"ddd\":6}\n",
      "A\t[\"b\",\"f\"]\t{\"ccc\":6,\"aaa\":9,\"eee\":5,\"ddd\":0,\"bbb\":3}\n",
      "D\t[\"b\",\"f\"]\t{\"bbb\":7,\"hhh\":1,\"aaa\":6,\"iii\":4,\"fff\":9,\"ddd\":5}\n",
      "E\t[\"a\",\"c\"]\t{\"fff\":3,\"ccc\":1,\"ggg\":2,\"eee\":5}\n",
      "B\t[\"b\",\"f\",\"c\"]\t{\"iii\":7,\"ggg\":3,\"ddd\":0,\"jjj\":8,\"hhh\":5,\"ccc\":1}\n",
      "B\t[\"f\",\"a\",\"e\"]\t{\"hhh\":6,\"ccc\":3,\"jjj\":0,\"bbb\":8,\"ddd\":7}\n",
      "D\t[\"a\",\"f\"]\t{\"aaa\":0,\"fff\":5,\"ddd\":3}\n",
      "B\t[\"c\",\"a\"]\t{\"ddd\":5,\"jjj\":2,\"iii\":7,\"ccc\":0,\"bbb\":4}\n",
      "C\t[\"c\",\"a\",\"e\",\"f\"]\t{\"eee\":0,\"fff\":2,\"hhh\":6}\n",
      "E\t[\"e\",\"d\"]\t{\"fff\":9,\"iii\":2,\"eee\":0}\n",
      "E\t[\"f\",\"a\",\"d\"]\t{\"hhh\":8,\"ggg\":3,\"jjj\":5}\n"
     ]
    }
   ],
   "source": [
    "%%hive\n",
    "USE default;\n",
    "DROP TABLE IF EXISTS taller04;\n",
    "CREATE TABLE taller04 (\n",
    "    c1 STRING,\n",
    "    c2 ARRAY<STRING>,\n",
    "    c3 MAP<STRING, INT>\n",
    ");\n",
    "LOAD DATA LOCAL INPATH 'fixed_data.tsv' INTO TABLE taller04;\n",
    "SELECT * FROM taller04;"
   ]
  },
  {
   "cell_type": "markdown",
   "metadata": {},
   "source": [
    "---"
   ]
  },
  {
   "cell_type": "code",
   "execution_count": 52,
   "metadata": {
    "collapsed": true
   },
   "outputs": [],
   "source": [
    "!rm data.* *.log"
   ]
  },
  {
   "cell_type": "markdown",
   "metadata": {},
   "source": [
    "---"
   ]
  }
 ],
 "metadata": {
  "kernelspec": {
   "display_name": "Python 3",
   "language": "python",
   "name": "python3"
  },
  "language_info": {
   "codemirror_mode": {
    "name": "ipython",
    "version": 3
   },
   "file_extension": ".py",
   "mimetype": "text/x-python",
   "name": "python",
   "nbconvert_exporter": "python",
   "pygments_lexer": "ipython3",
   "version": "3.6.1"
  },
  "toc": {
   "base_numbering": 1,
   "nav_menu": {},
   "number_sections": false,
   "sideBar": true,
   "skip_h1_title": true,
   "title_cell": "Table of Contents",
   "title_sidebar": "Contents",
   "toc_cell": false,
   "toc_position": {},
   "toc_section_display": true,
   "toc_window_display": true
  },
  "toc-autonumbering": false
 },
 "nbformat": 4,
 "nbformat_minor": 2
}
